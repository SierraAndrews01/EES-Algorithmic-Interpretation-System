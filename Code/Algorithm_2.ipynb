{
 "cells": [
  {
   "cell_type": "code",
   "execution_count": 2,
   "metadata": {},
   "outputs": [],
   "source": [
    "import pandas as pd\n",
    "import numpy as np\n",
    "import matplotlib.pyplot as plt\n",
    "from digital_processing import plot_signal\n",
    "import scipy.io as sio\n",
    "import math"
   ]
  },
  {
   "cell_type": "code",
   "execution_count": null,
   "metadata": {},
   "outputs": [],
   "source": [
    "# Initialize the GGMRF parameters \n",
    "\n",
    "\n",
    "\n",
    "scale_o = 1\n",
    "scale_l = 5\n",
    "p = 1.01            # Parameter: Controls Smoothing level\n",
    "q = 2               # Determines the Gaussian (q=2) or Laplacian (q=1) prior \n",
    "                    # distribution of the estimator\n",
    "b = math.sqrt(2)    # GGMRF potential\n",
    "\n",
    "def gg_mrf_denoise(segment, sigma=1, lamb=5, p=1.01, q=2, b=math.sqrt(2), window_size=3):\n",
    "    \"\"\"\n",
    "    Perfom Noise Reduction Using 2D GGMRF Model.\n",
    "\n",
    "    Parameters:\n",
    "    -> segment:  2D matrix of original EMG sample segment with noise\n",
    "    -> sigma:   scaling factor for smoothness term\n",
    "    -> lamb:    Weight of the regularization term\n",
    "    -> p:   Controls SmoothingLevel\n",
    "    -> q:   Determines the Gaussian (q=2) or Laplacian (q=1) prior \n",
    "            distribution of the estimator\n",
    "    -> b:   GGMRF potential\n",
    "    -> window_size: Size of the window for neighborhood\n",
    "\n",
    "    Returns: \n",
    "    -> denoised_segment: 2D matrix, denoised EMG sample segment\n",
    "    \"\"\"\n",
    "    \n",
    "    denoised_segment = segment.copy()\n",
    "\n",
    "    # Get dimensions of segment\n",
    "    rows, cols = segment.shape\n",
    "\n",
    "\n",
    "    # Create an m x n mask matrix\n",
    "    mask = np.ones_like(segment)\n",
    "    mask[:1, :] = 0     # Zero Top Border\n",
    "    mask[-1:, :] = 0    # Zero Bottom Border\n",
    "    mask[:, :1] = 0     # Zero Left Border\n",
    "    mask[:, -1:] = 0    # Zero Right Border\n",
    "\n",
    "\"\"\" Probably not needed (overcomplication)\n",
    "    mask[:window_size//2, :] = 0\n",
    "    mask[-window_size//2:, :] = 0\n",
    "    mask[:, :window_size//2] = 0\n",
    "    mask[:, -window_size//2:] = 0\n",
    "\"\"\"\n",
    "for row in range(rows):\n",
    "    for col in range(cols):\n",
    "        # Skip border pixels\n",
    "        if mask[row, col] == 0:\n",
    "            continue\n",
    "\n",
    "        neighborhood = []\n",
    "        for dr in range(-window_size // 2, window_size //2 +1):\n",
    "            for dc in range(-window_size // 2, window_size // 2 +1)\n"
   ]
  }
 ],
 "metadata": {
  "kernelspec": {
   "display_name": "Python 3",
   "language": "python",
   "name": "python3"
  },
  "language_info": {
   "codemirror_mode": {
    "name": "ipython",
    "version": 3
   },
   "file_extension": ".py",
   "mimetype": "text/x-python",
   "name": "python",
   "nbconvert_exporter": "python",
   "pygments_lexer": "ipython3",
   "version": "3.10.11"
  }
 },
 "nbformat": 4,
 "nbformat_minor": 2
}
