{
 "cells": [
  {
   "cell_type": "markdown",
   "metadata": {},
   "source": [
    "# Algorithms 4, 5, & 6"
   ]
  },
  {
   "cell_type": "code",
   "execution_count": 74,
   "metadata": {},
   "outputs": [],
   "source": [
    "import numpy as np\n",
    "import matplotlib.pyplot as plt\n",
    "import pandas as pd\n",
    "from scipy.integrate import quad"
   ]
  },
  {
   "cell_type": "markdown",
   "metadata": {},
   "source": [
    "### Algorithm 4 - Feature Extraction"
   ]
  },
  {
   "cell_type": "code",
   "execution_count": 62,
   "metadata": {},
   "outputs": [],
   "source": [
    "# The dataframe may be different columns so adjust as needed based on other algorithms\n",
    "# TODO: Change the dataframe to separate high and low peaks to make this method easier?\n",
    "\n",
    "def feature_engineering(data):\n",
    "    high_peaks = data[\"CH1\"]\n",
    "    low_peaks = data[\"Rand\"]\n",
    "    stimulus_onset = data[2] \n",
    "    activation_onset = data[3]\n",
    "    peak_times = data[4]\n",
    "    # TODO: find a way to iterate through all peak values (maybe pass them in as a list)\n",
    "    all_values = data[5]\n",
    "\n",
    "    # Calculate Peak to Peak amplitude\n",
    "    # TODO: This might still need to be normalized\n",
    "    distance = np.subtract(high_peaks, low_peaks)\n",
    "    p2pa = np.abs(distance)\n",
    "\n",
    "    # Activation Latency\n",
    "    # # TODO: Do I find the #1 highest and lowest peak or do I have to repeat this step\n",
    "    stim_time = np.subtract(activation_onset - stimulus_onset)\n",
    "    peak_time_diff = np.max(peak_times) - np.min(peak_times)\n",
    "\n",
    "    # Integrated EMG Value\n",
    "    rectified_emg = np.abs(all_values)\n",
    "    x = np.linspace(0, 24399, 1)\n",
    "\n",
    "    # Was there evoked potential?\n",
    "        \n",
    "\n",
    "    return p2pa, stim_time, peak_time_diff\n"
   ]
  },
  {
   "cell_type": "code",
   "execution_count": 63,
   "metadata": {},
   "outputs": [
    {
     "data": {
      "text/html": [
       "<div>\n",
       "<style scoped>\n",
       "    .dataframe tbody tr th:only-of-type {\n",
       "        vertical-align: middle;\n",
       "    }\n",
       "\n",
       "    .dataframe tbody tr th {\n",
       "        vertical-align: top;\n",
       "    }\n",
       "\n",
       "    .dataframe thead th {\n",
       "        text-align: right;\n",
       "    }\n",
       "</style>\n",
       "<table border=\"1\" class=\"dataframe\">\n",
       "  <thead>\n",
       "    <tr style=\"text-align: right;\">\n",
       "      <th></th>\n",
       "      <th>CH1</th>\n",
       "      <th>CH2</th>\n",
       "      <th>CH3</th>\n",
       "      <th>CH4</th>\n",
       "      <th>CH5</th>\n",
       "      <th>Rand</th>\n",
       "    </tr>\n",
       "  </thead>\n",
       "  <tbody>\n",
       "    <tr>\n",
       "      <th>0</th>\n",
       "      <td>-0.000264</td>\n",
       "      <td>-0.000264</td>\n",
       "      <td>-0.000264</td>\n",
       "      <td>-0.000264</td>\n",
       "      <td>-0.000264</td>\n",
       "      <td>2</td>\n",
       "    </tr>\n",
       "    <tr>\n",
       "      <th>1</th>\n",
       "      <td>-0.000256</td>\n",
       "      <td>-0.000256</td>\n",
       "      <td>-0.000256</td>\n",
       "      <td>-0.000256</td>\n",
       "      <td>-0.000256</td>\n",
       "      <td>4</td>\n",
       "    </tr>\n",
       "    <tr>\n",
       "      <th>2</th>\n",
       "      <td>-0.000254</td>\n",
       "      <td>-0.000254</td>\n",
       "      <td>-0.000254</td>\n",
       "      <td>-0.000254</td>\n",
       "      <td>-0.000254</td>\n",
       "      <td>0</td>\n",
       "    </tr>\n",
       "    <tr>\n",
       "      <th>3</th>\n",
       "      <td>-0.000264</td>\n",
       "      <td>-0.000264</td>\n",
       "      <td>-0.000264</td>\n",
       "      <td>-0.000264</td>\n",
       "      <td>-0.000264</td>\n",
       "      <td>2</td>\n",
       "    </tr>\n",
       "    <tr>\n",
       "      <th>4</th>\n",
       "      <td>-0.000247</td>\n",
       "      <td>-0.000247</td>\n",
       "      <td>-0.000247</td>\n",
       "      <td>-0.000247</td>\n",
       "      <td>-0.000247</td>\n",
       "      <td>0</td>\n",
       "    </tr>\n",
       "  </tbody>\n",
       "</table>\n",
       "</div>"
      ],
      "text/plain": [
       "        CH1       CH2       CH3       CH4       CH5  Rand\n",
       "0 -0.000264 -0.000264 -0.000264 -0.000264 -0.000264     2\n",
       "1 -0.000256 -0.000256 -0.000256 -0.000256 -0.000256     4\n",
       "2 -0.000254 -0.000254 -0.000254 -0.000254 -0.000254     0\n",
       "3 -0.000264 -0.000264 -0.000264 -0.000264 -0.000264     2\n",
       "4 -0.000247 -0.000247 -0.000247 -0.000247 -0.000247     0"
      ]
     },
     "execution_count": 63,
     "metadata": {},
     "output_type": "execute_result"
    }
   ],
   "source": [
    "data = pd.read_excel('../Data/multichannel_emg_signals.xlsx')\n",
    "rand = np.random.randint(0, 10, size=24399)\n",
    "random_nums = pd.DataFrame(rand, columns=['Rand'])\n",
    "df = pd.concat([data, random_nums], axis=1)\n",
    "df.head()"
   ]
  },
  {
   "cell_type": "code",
   "execution_count": 64,
   "metadata": {},
   "outputs": [
    {
     "name": "stdout",
     "output_type": "stream",
     "text": [
      "0        2.000264\n",
      "1        4.000256\n",
      "2        0.000254\n",
      "3        2.000264\n",
      "4        0.000247\n",
      "           ...   \n",
      "24394    3.000193\n",
      "24395    7.000193\n",
      "24396    5.000188\n",
      "24397    9.000177\n",
      "24398    0.000174\n",
      "Length: 24399, dtype: float64\n"
     ]
    }
   ],
   "source": [
    "p2pa = feature_engineering(df)\n",
    "print(p2pa)"
   ]
  },
  {
   "cell_type": "code",
   "execution_count": 72,
   "metadata": {},
   "outputs": [
    {
     "data": {
      "text/plain": [
       "[<matplotlib.lines.Line2D at 0x21dcba34320>]"
      ]
     },
     "execution_count": 72,
     "metadata": {},
     "output_type": "execute_result"
    },
    {
     "data": {
      "image/png": "[encoded data removed]",
      "text/plain": [
       "<Figure size 640x480 with 1 Axes>"
      ]
     },
     "metadata": {},
     "output_type": "display_data"
    }
   ],
   "source": [
    "x = np.linspace(0, 24399, 24399)\n",
    "y = df['CH1'].to_numpy()\n",
    "\n",
    "rectified_emg = np.abs(y)\n",
    "\n",
    "\n",
    "plt.plot(x, y)\n",
    "plt.plot(x, rectified_emg)"
   ]
  },
  {
   "cell_type": "code",
   "execution_count": 73,
   "metadata": {},
   "outputs": [
    {
     "name": "stderr",
     "output_type": "stream",
     "text": [
      "C:\\Users\\andrewss\\AppData\\Local\\Temp\\ipykernel_40280\\3030596718.py:1: DeprecationWarning: `trapz` is deprecated. Use `trapezoid` instead, or one of the numerical integration functions in `scipy.integrate`.\n",
      "  area_trapz = np.trapz(y, x)\n"
     ]
    }
   ],
   "source": [
    "area_trapz = np.trapz(y, x)"
   ]
  },
  {
   "cell_type": "code",
   "execution_count": null,
   "metadata": {},
   "outputs": [],
   "source": []
  }
 ],
 "metadata": {
  "kernelspec": {
   "display_name": "Python 3",
   "language": "python",
   "name": "python3"
  },
  "language_info": {
   "codemirror_mode": {
    "name": "ipython",
    "version": 3
   },
   "file_extension": ".py",
   "mimetype": "text/x-python",
   "name": "python",
   "nbconvert_exporter": "python",
   "pygments_lexer": "ipython3",
   "version": "3.12.7"
  }
 },
 "nbformat": 4,
 "nbformat_minor": 2
}
