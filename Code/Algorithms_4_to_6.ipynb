{
 "cells": [
  {
   "cell_type": "markdown",
   "metadata": {},
   "source": [
    "# Algorithms 4, 5, & 6"
   ]
  },
  {
   "cell_type": "code",
   "execution_count": 75,
   "metadata": {},
   "outputs": [],
   "source": [
    "import numpy as np\n",
    "import matplotlib.pyplot as plt\n",
    "import pandas as pd\n",
    "from scipy.integrate import trapezoid"
   ]
  },
  {
   "cell_type": "markdown",
   "metadata": {},
   "source": [
    "### Algorithm 4 - Feature Extraction"
   ]
  },
  {
   "cell_type": "code",
   "execution_count": 80,
   "metadata": {},
   "outputs": [],
   "source": [
    "# The dataframe may be different columns so adjust as needed based on other algorithms\n",
    "\n",
    "def feature_engineering(data, threshold):\n",
    "    high_peak = np.max(data[\"CH1\"])\n",
    "    low_peak = np.min(data[\"CH1\"])\n",
    "    evoked_potentials = data[\"CH1\"]\n",
    "\n",
    "    # Calculate Peak to Peak amplitude\n",
    "    # TODO: This might still need to be normalized\n",
    "    distance = np.subtract(high_peak, low_peak)\n",
    "    p2pa = np.abs(distance)\n",
    "\n",
    "    # Activation Latency\n",
    "    # TODO: Check non-zero indices variable\n",
    "    # Calculate Stimulus onset: 1st time when stimulus != 0\n",
    "    stim_data = np.array(data[1])\n",
    "    non_zero_indices = np.nonzero(stim_data)[0]  # Get indices of non-zero elements\n",
    "    stim_onset = non_zero_indices[0] if non_zero_indices.size > 0 else None\n",
    "    # Calculate Activation onset: 1st time when evoke potential != 0\n",
    "    act_data = np.array(data[2])\n",
    "    non_zero_indices = np.nonzero(stim_data)[0]  # Get indices of non-zero elements\n",
    "    act_onset = non_zero_indices[0] if non_zero_indices.size > 0 else None\n",
    "    # time difference btwn activation & stimulus onset portion of activation latency\n",
    "    stim_act_diff = np.subtract(act_onset - stim_onset)\n",
    "    # Activation latency: time btwn highest and lowest peak\n",
    "    peak_time_diff = np.max(evoked_potentials)[0] - np.min(evoked_potentials)[0]\n",
    "\n",
    "    # Integrated EMG Value\n",
    "    # TODO: Check that this method makes sense\n",
    "    rectified_emg = np.abs(evoked_potentials)\n",
    "    x = np.linspace(0, 24399, 1)\n",
    "    area = trapezoid(rectified_emg, x)\n",
    "\n",
    "    # Was there evoked potential?\n",
    "    potential = np.where(evoked_potentials < threshold, 0, 1)\n",
    "    \n",
    "    # Create dataframe to return all data\n",
    "    df = pd.DataFrame([p2pa, stim_act_diff, peak_time_diff, area, potential], columns=[\"Peak to Peak Amp, \",\n",
    "        \"Stimulation Time\", \"Peak Time Difference\", \"Area Under Peak\", \"Evoked Potential\"])\n",
    "\n",
    "    return df\n"
   ]
  },
  {
   "cell_type": "code",
   "execution_count": 63,
   "metadata": {},
   "outputs": [
    {
     "data": {
      "text/html": [
       "<div>\n",
       "<style scoped>\n",
       "    .dataframe tbody tr th:only-of-type {\n",
       "        vertical-align: middle;\n",
       "    }\n",
       "\n",
       "    .dataframe tbody tr th {\n",
       "        vertical-align: top;\n",
       "    }\n",
       "\n",
       "    .dataframe thead th {\n",
       "        text-align: right;\n",
       "    }\n",
       "</style>\n",
       "<table border=\"1\" class=\"dataframe\">\n",
       "  <thead>\n",
       "    <tr style=\"text-align: right;\">\n",
       "      <th></th>\n",
       "      <th>CH1</th>\n",
       "      <th>CH2</th>\n",
       "      <th>CH3</th>\n",
       "      <th>CH4</th>\n",
       "      <th>CH5</th>\n",
       "      <th>Rand</th>\n",
       "    </tr>\n",
       "  </thead>\n",
       "  <tbody>\n",
       "    <tr>\n",
       "      <th>0</th>\n",
       "      <td>-0.000264</td>\n",
       "      <td>-0.000264</td>\n",
       "      <td>-0.000264</td>\n",
       "      <td>-0.000264</td>\n",
       "      <td>-0.000264</td>\n",
       "      <td>2</td>\n",
       "    </tr>\n",
       "    <tr>\n",
       "      <th>1</th>\n",
       "      <td>-0.000256</td>\n",
       "      <td>-0.000256</td>\n",
       "      <td>-0.000256</td>\n",
       "      <td>-0.000256</td>\n",
       "      <td>-0.000256</td>\n",
       "      <td>4</td>\n",
       "    </tr>\n",
       "    <tr>\n",
       "      <th>2</th>\n",
       "      <td>-0.000254</td>\n",
       "      <td>-0.000254</td>\n",
       "      <td>-0.000254</td>\n",
       "      <td>-0.000254</td>\n",
       "      <td>-0.000254</td>\n",
       "      <td>0</td>\n",
       "    </tr>\n",
       "    <tr>\n",
       "      <th>3</th>\n",
       "      <td>-0.000264</td>\n",
       "      <td>-0.000264</td>\n",
       "      <td>-0.000264</td>\n",
       "      <td>-0.000264</td>\n",
       "      <td>-0.000264</td>\n",
       "      <td>2</td>\n",
       "    </tr>\n",
       "    <tr>\n",
       "      <th>4</th>\n",
       "      <td>-0.000247</td>\n",
       "      <td>-0.000247</td>\n",
       "      <td>-0.000247</td>\n",
       "      <td>-0.000247</td>\n",
       "      <td>-0.000247</td>\n",
       "      <td>0</td>\n",
       "    </tr>\n",
       "  </tbody>\n",
       "</table>\n",
       "</div>"
      ],
      "text/plain": [
       "        CH1       CH2       CH3       CH4       CH5  Rand\n",
       "0 -0.000264 -0.000264 -0.000264 -0.000264 -0.000264     2\n",
       "1 -0.000256 -0.000256 -0.000256 -0.000256 -0.000256     4\n",
       "2 -0.000254 -0.000254 -0.000254 -0.000254 -0.000254     0\n",
       "3 -0.000264 -0.000264 -0.000264 -0.000264 -0.000264     2\n",
       "4 -0.000247 -0.000247 -0.000247 -0.000247 -0.000247     0"
      ]
     },
     "execution_count": 63,
     "metadata": {},
     "output_type": "execute_result"
    }
   ],
   "source": [
    "data = pd.read_excel('../Data/multichannel_emg_signals.xlsx')\n",
    "rand = np.random.randint(0, 10, size=24399)\n",
    "random_nums = pd.DataFrame(rand, columns=['Rand'])\n",
    "df = pd.concat([data, random_nums], axis=1)\n",
    "df.head()"
   ]
  },
  {
   "cell_type": "code",
   "execution_count": 64,
   "metadata": {},
   "outputs": [
    {
     "name": "stdout",
     "output_type": "stream",
     "text": [
      "0        2.000264\n",
      "1        4.000256\n",
      "2        0.000254\n",
      "3        2.000264\n",
      "4        0.000247\n",
      "           ...   \n",
      "24394    3.000193\n",
      "24395    7.000193\n",
      "24396    5.000188\n",
      "24397    9.000177\n",
      "24398    0.000174\n",
      "Length: 24399, dtype: float64\n"
     ]
    }
   ],
   "source": [
    "p2pa = feature_engineering(df)\n",
    "print(p2pa)"
   ]
  },
  {
   "cell_type": "code",
   "execution_count": null,
   "metadata": {},
   "outputs": [],
   "source": []
  },
  {
   "cell_type": "markdown",
   "metadata": {},
   "source": [
    "### Algorithm 5 - Visualization"
   ]
  },
  {
   "cell_type": "markdown",
   "metadata": {},
   "source": []
  }
 ],
 "metadata": {
  "kernelspec": {
   "display_name": "Python 3",
   "language": "python",
   "name": "python3"
  },
  "language_info": {
   "codemirror_mode": {
    "name": "ipython",
    "version": 3
   },
   "file_extension": ".py",
   "mimetype": "text/x-python",
   "name": "python",
   "nbconvert_exporter": "python",
   "pygments_lexer": "ipython3",
   "version": "3.12.7"
  }
 },
 "nbformat": 4,
 "nbformat_minor": 2
}
